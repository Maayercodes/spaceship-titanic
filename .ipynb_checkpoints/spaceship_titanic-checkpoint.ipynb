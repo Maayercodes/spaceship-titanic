{
 "cells": [
  {
   "cell_type": "code",
   "execution_count": null,
   "id": "7d394177",
   "metadata": {},
   "outputs": [],
   "source": [
    "# Spaceship Titanic - Kaggle Competition\n",
    "In this notebook, we will preprocess data, train models, evaluate performance, and generate predictions."
   ]
  },
  {
   "cell_type": "code",
   "execution_count": null,
   "id": "595eb629",
   "metadata": {},
   "outputs": [],
   "source": [
    "import pandas as pd\n",
    "import numpy as np\n",
    "import matplotlib.pyplot as plt\n",
    "import seaborn as sns\n",
    "from sklearn.model_selection import train_test_split, GridSearchCV, StratifiedKFold\n",
    "from sklearn.preprocessing import StandardScaler, OneHotEncoder\n",
    "from sklearn.compose import ColumnTransformer\n",
    "from sklearn.pipeline import Pipeline\n",
    "from sklearn.impute import SimpleImputer\n",
    "from sklearn.ensemble import RandomForestClassifier, GradientBoostingClassifier\n",
    "from xgboost import XGBClassifier\n",
    "from lightgbm import LGBMClassifier\n",
    "from sklearn.metrics import accuracy_score, classification_report"
   ]
  },
  {
   "cell_type": "code",
   "execution_count": null,
   "id": "bbfbc10d",
   "metadata": {},
   "outputs": [],
   "source": [
    "# Load the dataset\n",
    "train_df = pd.read_csv('/mnt/data/spaceship_titanic_dataset/train.csv')\n",
    "test_df = pd.read_csv('/mnt/data/spaceship_titanic_dataset/test.csv')"
   ]
  },
  {
   "cell_type": "code",
   "execution_count": null,
   "id": "5f1f117f",
   "metadata": {},
   "outputs": [],
   "source": [
    "# Preprocessing\n",
    "train_df[['Deck', 'Num', 'Side']] = train_df['Cabin'].str.split('/', expand=True)\n",
    "test_df[['Deck', 'Num', 'Side']] = test_df['Cabin'].str.split('/', expand=True)\n",
    "train_df[['Group', 'Number']] = train_df['PassengerId'].str.split('_', expand=True)\n",
    "test_df[['Group', 'Number']] = test_df['PassengerId'].str.split('_', expand=True)"
   ]
  },
  {
   "cell_type": "code",
   "execution_count": null,
   "id": "ea81034a",
   "metadata": {},
   "outputs": [],
   "source": [
    "features = ['HomePlanet', 'CryoSleep', 'Destination', 'Age', 'VIP', 'RoomService',\n",
    "            'FoodCourt', 'ShoppingMall', 'Spa', 'VRDeck', 'Deck', 'Side']\n",
    "X = train_df[features]\n",
    "y = train_df['Transported']"
   ]
  },
  {
   "cell_type": "code",
   "execution_count": null,
   "id": "e9e2564a",
   "metadata": {},
   "outputs": [],
   "source": [
    "numeric_features = ['Age', 'RoomService', 'FoodCourt', 'ShoppingMall', 'Spa', 'VRDeck']\n",
    "categorical_features = ['HomePlanet', 'CryoSleep', 'Destination', 'VIP', 'Deck', 'Side']"
   ]
  },
  {
   "cell_type": "code",
   "execution_count": null,
   "id": "7cf8ebe0",
   "metadata": {},
   "outputs": [],
   "source": [
    "numeric_transformer = Pipeline(steps=[\n",
    "    ('imputer', SimpleImputer(strategy='median')),\n",
    "    ('scaler', StandardScaler())])"
   ]
  },
  {
   "cell_type": "code",
   "execution_count": null,
   "id": "d9230c80",
   "metadata": {},
   "outputs": [],
   "source": [
    "categorical_transformer = Pipeline(steps=[\n",
    "    ('imputer', SimpleImputer(strategy='most_frequent')),\n",
    "    ('onehot', OneHotEncoder(handle_unknown='ignore'))])"
   ]
  },
  {
   "cell_type": "code",
   "execution_count": null,
   "id": "9d176871",
   "metadata": {},
   "outputs": [],
   "source": [
    "preprocessor = ColumnTransformer(\n",
    "    transformers=[\n",
    "        ('num', numeric_transformer, numeric_features),\n",
    "        ('cat', categorical_transformer, categorical_features)])"
   ]
  },
  {
   "cell_type": "code",
   "execution_count": null,
   "id": "3d8b8205",
   "metadata": {},
   "outputs": [],
   "source": [
    "# Define models\n",
    "models = {\n",
    "    'RandomForest': RandomForestClassifier(random_state=42),\n",
    "    'XGBoost': XGBClassifier(use_label_encoder=False, eval_metric='logloss'),\n",
    "    'LightGBM': LGBMClassifier()\n",
    "}"
   ]
  },
  {
   "cell_type": "code",
   "execution_count": null,
   "id": "58971c24",
   "metadata": {},
   "outputs": [],
   "source": [
    "# Train and evaluate models\n",
    "X_train, X_val, y_train, y_val = train_test_split(X, y, test_size=0.2, random_state=42)\n",
    "results = {}\n",
    "for name, model in models.items():\n",
    "    pipeline = Pipeline(steps=[('preprocessor', preprocessor),\n",
    "                               ('classifier', model)])\n",
    "    pipeline.fit(X_train, y_train)\n",
    "    y_pred = pipeline.predict(X_val)\n",
    "    acc = accuracy_score(y_val, y_pred)\n",
    "    results[name] = acc\n",
    "    print(f'Model: {name}')\n",
    "    print(f'Accuracy: {acc:.4f}')\n",
    "    print(classification_report(y_val, y_pred))\n",
    "    print('-' * 50)"
   ]
  },
  {
   "cell_type": "code",
   "execution_count": null,
   "id": "204551ab",
   "metadata": {},
   "outputs": [],
   "source": [
    "# Select best model based on accuracy\n",
    "best_model_name = max(results, key=results.get)\n",
    "best_model = models[best_model_name]\n",
    "best_pipeline = Pipeline(steps=[('preprocessor', preprocessor),\n",
    "                                ('classifier', best_model)])\n",
    "best_pipeline.fit(X, y)"
   ]
  },
  {
   "cell_type": "code",
   "execution_count": null,
   "id": "892dce9b",
   "metadata": {},
   "outputs": [],
   "source": [
    "# Generate predictions for test data\n",
    "X_test = test_df[features]\n",
    "test_df['Transported'] = best_pipeline.predict(X_test)\n",
    "submission = test_df[['PassengerId', 'Transported']]\n",
    "submission.to_csv('/mnt/data/spaceship_titanic_submission.csv', index=False)"
   ]
  },
  {
   "cell_type": "code",
   "execution_count": null,
   "id": "34cfb51c",
   "metadata": {},
   "outputs": [],
   "source": [
    "print(f\"Best Model Selected: {best_model_name}\")\n",
    "print(\"Submission file saved as spaceship_titanic_submission.csv\")"
   ]
  }
 ],
 "metadata": {},
 "nbformat": 4,
 "nbformat_minor": 5
}
